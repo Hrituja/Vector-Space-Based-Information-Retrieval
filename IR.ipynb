{
  "nbformat": 4,
  "nbformat_minor": 0,
  "metadata": {
    "kernelspec": {
      "display_name": "Python 3",
      "language": "python",
      "name": "python3"
    },
    "language_info": {
      "codemirror_mode": {
        "name": "ipython",
        "version": 3
      },
      "file_extension": ".py",
      "mimetype": "text/x-python",
      "name": "python",
      "nbconvert_exporter": "python",
      "pygments_lexer": "ipython3",
      "version": "3.5.2"
    },
    "colab": {
      "name": "IR.ipynb",
      "provenance": [],
      "include_colab_link": true
    }
  },
  "cells": [
    {
      "cell_type": "markdown",
      "metadata": {
        "id": "view-in-github",
        "colab_type": "text"
      },
      "source": [
        "<a href=\"https://colab.research.google.com/github/Hrituja/Vector-Space-Based-Information-Retrieval/blob/master/IR.ipynb\" target=\"_parent\"><img src=\"https://colab.research.google.com/assets/colab-badge.svg\" alt=\"Open In Colab\"/></a>"
      ]
    },
    {
      "cell_type": "markdown",
      "metadata": {
        "id": "WLjoxYPex1Vm",
        "colab_type": "text"
      },
      "source": [
        "## **Information Retrieval**"
      ]
    },
    {
      "cell_type": "code",
      "metadata": {
        "id": "g_MmxDFikWr1",
        "colab_type": "code",
        "outputId": "4478e7a1-97cb-4308-ddad-75d091a808cf",
        "colab": {
          "resources": {
            "http://localhost:8080/nbextensions/google.colab/files.js": {
              "data": "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",
              "ok": true,
              "headers": [
                [
                  "content-type",
                  "application/javascript"
                ]
              ],
              "status": 200,
              "status_text": ""
            }
          },
          "base_uri": "https://localhost:8080/",
          "height": 75
        }
      },
      "source": [
        "from google.colab import files\n",
        "uploaded = files.upload()"
      ],
      "execution_count": 0,
      "outputs": [
        {
          "output_type": "display_data",
          "data": {
            "text/html": [
              "\n",
              "     <input type=\"file\" id=\"files-be83a9fb-b65d-46b0-a0bc-c392f86df149\" name=\"files[]\" multiple disabled />\n",
              "     <output id=\"result-be83a9fb-b65d-46b0-a0bc-c392f86df149\">\n",
              "      Upload widget is only available when the cell has been executed in the\n",
              "      current browser session. Please rerun this cell to enable.\n",
              "      </output>\n",
              "      <script src=\"/nbextensions/google.colab/files.js\"></script> "
            ],
            "text/plain": [
              "<IPython.core.display.HTML object>"
            ]
          },
          "metadata": {
            "tags": []
          }
        },
        {
          "output_type": "stream",
          "text": [
            "Saving wiki_99 to wiki_99\n"
          ],
          "name": "stdout"
        }
      ]
    },
    {
      "cell_type": "markdown",
      "metadata": {
        "id": "EmwgmQ-MyIgF",
        "colab_type": "text"
      },
      "source": [
        "### **Imports**"
      ]
    },
    {
      "cell_type": "code",
      "metadata": {
        "id": "BHEv5vk-dwab",
        "colab_type": "code",
        "outputId": "e846e9dd-7c69-4547-b626-ef804d0d2d59",
        "colab": {
          "base_uri": "https://localhost:8080/",
          "height": 204
        }
      },
      "source": [
        "import re\n",
        "import math\n",
        "import string\n",
        "import numpy as np\n",
        "import pandas as pd\n",
        "\n",
        "import nltk\n",
        "from nltk.corpus import stopwords\n",
        "from nltk.tokenize import word_tokenize\n",
        "from sklearn.feature_extraction.text import CountVectorizer\n",
        "\n",
        "from collections import Counter\n",
        "\n",
        "import matplotlib.pyplot as plt\n",
        "\n",
        "# Preprocess file\n",
        "data = open(\"wiki_99\",\"r\")\n",
        "\n",
        "# Substitute all html tags with ''\n",
        "\n",
        "file = open(\"wiki_99\", 'r')\n",
        "text = file.read().strip()\n",
        "file.close()\n",
        "file_name = re.findall(' id=\"(.*)\" url', text)\n",
        "file_body = re.findall('<doc .*>((.|\\n)*?)<\\/doc>',text)\n",
        "\n",
        "data_cleaned={}\n",
        "for j in range(len(file_name)):\n",
        "    filebody=re.sub('<[^>]*>', '', str(file_body[j]))\n",
        "    if(len(data_cleaned)==0):\n",
        "        data_cleaned.update({'label':[str(file_name[j])],'body_text':[filebody]})\n",
        "    else:\n",
        "        data_cleaned['label'].append(str(file_name[j]))\n",
        "        data_cleaned['body_text'].append(filebody)\n",
        "    \n",
        "\n",
        "data = pd.DataFrame.from_dict(data_cleaned)\n",
        "\n",
        "\n",
        "\n",
        "def clean_text(text):\n",
        "    tokens = word_tokenize(text)\n",
        "    return text\n",
        "\n",
        "data['cleaned_text'] = data['body_text'].apply(lambda x: clean_text(x))\n",
        "data.head()"
      ],
      "execution_count": 0,
      "outputs": [
        {
          "output_type": "execute_result",
          "data": {
            "text/html": [
              "<div>\n",
              "<style scoped>\n",
              "    .dataframe tbody tr th:only-of-type {\n",
              "        vertical-align: middle;\n",
              "    }\n",
              "\n",
              "    .dataframe tbody tr th {\n",
              "        vertical-align: top;\n",
              "    }\n",
              "\n",
              "    .dataframe thead th {\n",
              "        text-align: right;\n",
              "    }\n",
              "</style>\n",
              "<table border=\"1\" class=\"dataframe\">\n",
              "  <thead>\n",
              "    <tr style=\"text-align: right;\">\n",
              "      <th></th>\n",
              "      <th>label</th>\n",
              "      <th>body_text</th>\n",
              "      <th>cleaned_text</th>\n",
              "    </tr>\n",
              "  </thead>\n",
              "  <tbody>\n",
              "    <tr>\n",
              "      <th>0</th>\n",
              "      <td>167857</td>\n",
              "      <td>('\\nThe Usual Suspects\\n\\nThe Usual Suspects i...</td>\n",
              "      <td>('\\nThe Usual Suspects\\n\\nThe Usual Suspects i...</td>\n",
              "    </tr>\n",
              "    <tr>\n",
              "      <th>1</th>\n",
              "      <td>167858</td>\n",
              "      <td>('\\nIndependent Irish Party\\n\\nThe Independent...</td>\n",
              "      <td>('\\nIndependent Irish Party\\n\\nThe Independent...</td>\n",
              "    </tr>\n",
              "    <tr>\n",
              "      <th>2</th>\n",
              "      <td>167859</td>\n",
              "      <td>('\\nJohn Russell, 1st Earl Russell\\n\\nJohn Rus...</td>\n",
              "      <td>('\\nJohn Russell, 1st Earl Russell\\n\\nJohn Rus...</td>\n",
              "    </tr>\n",
              "    <tr>\n",
              "      <th>3</th>\n",
              "      <td>167861</td>\n",
              "      <td>('\\nDecebalus\\n\\nDecebalus (r. 87–106) was the...</td>\n",
              "      <td>('\\nDecebalus\\n\\nDecebalus (r. 87–106) was the...</td>\n",
              "    </tr>\n",
              "    <tr>\n",
              "      <th>4</th>\n",
              "      <td>167866</td>\n",
              "      <td>('\\nWilhelm Steinitz\\n\\nWilhelm (later William...</td>\n",
              "      <td>('\\nWilhelm Steinitz\\n\\nWilhelm (later William...</td>\n",
              "    </tr>\n",
              "  </tbody>\n",
              "</table>\n",
              "</div>"
            ],
            "text/plain": [
              "    label  ...                                       cleaned_text\n",
              "0  167857  ...  ('\\nThe Usual Suspects\\n\\nThe Usual Suspects i...\n",
              "1  167858  ...  ('\\nIndependent Irish Party\\n\\nThe Independent...\n",
              "2  167859  ...  ('\\nJohn Russell, 1st Earl Russell\\n\\nJohn Rus...\n",
              "3  167861  ...  ('\\nDecebalus\\n\\nDecebalus (r. 87–106) was the...\n",
              "4  167866  ...  ('\\nWilhelm Steinitz\\n\\nWilhelm (later William...\n",
              "\n",
              "[5 rows x 3 columns]"
            ]
          },
          "metadata": {
            "tags": []
          },
          "execution_count": 17
        }
      ]
    },
    {
      "cell_type": "code",
      "metadata": {
        "id": "pMevT7KIn6wR",
        "colab_type": "code",
        "outputId": "60435cf9-814a-4d16-f365-067a051d5c99",
        "colab": {
          "base_uri": "https://localhost:8080/",
          "height": 53
        }
      },
      "source": [
        "!pip install nltk"
      ],
      "execution_count": 0,
      "outputs": [
        {
          "output_type": "stream",
          "text": [
            "Requirement already satisfied: nltk in /usr/local/lib/python3.6/dist-packages (3.2.5)\n",
            "Requirement already satisfied: six in /usr/local/lib/python3.6/dist-packages (from nltk) (1.12.0)\n"
          ],
          "name": "stdout"
        }
      ]
    },
    {
      "cell_type": "markdown",
      "metadata": {
        "id": "rUDfuExDdwai",
        "colab_type": "text"
      },
      "source": [
        "### **Part 1: Corpus Analysis**"
      ]
    },
    {
      "cell_type": "markdown",
      "metadata": {
        "id": "X_G1OaTvzEQm",
        "colab_type": "text"
      },
      "source": [
        "**Unigram Inverted Index:**\n",
        "To overcome the problems of Term Documenting, we use a technique called unigram inverted index.\n",
        "in this technique we store all the list of documents that contain a word. The collection of these lists for every word is called postings list.\n",
        "The words that we use here are called dictionary. And each of the document list for a word is called postings."
      ]
    },
    {
      "cell_type": "markdown",
      "metadata": {
        "id": "kM0O9lRZdwaj",
        "colab_type": "text"
      },
      "source": [
        "#### Q1. Unigram analysis:"
      ]
    },
    {
      "cell_type": "code",
      "metadata": {
        "id": "DZzTCfvSdwak",
        "colab_type": "code",
        "outputId": "673e7738-b873-4877-cb5b-54731ebf4a9d",
        "colab": {}
      },
      "source": [
        "ngram_vect_unigram = CountVectorizer(ngram_range=(1,1))\n",
        "X_counts_unigram = ngram_vect_unigram.fit_transform(data['body_text'])\n",
        "print(X_counts_unigram.shape)\n",
        "words_list=(ngram_vect_unigram.get_feature_names())\n",
        "count_list=(X_counts_unigram.toarray().sum(axis=0))\n",
        "\n",
        "np.random.seed(19680801)\n",
        "\n",
        "plt.rcdefaults()\n",
        "# Example data\n",
        "# people = ('Tom', 'Dick', 'Harry', 'Slim', 'Jim')\n",
        "# y_pos = np.arange(len(people))\n",
        "# performance = 3 + 10 * np.random.rand(len(people))\n",
        "error = np.random.rand(len(words_list))\n",
        "\n",
        "ax.barh(count_list, word_list, xerr=error, align='center')\n",
        "ax.set_yticks(word_lis)\n",
        "ax.set_yticklabels(people)\n",
        "ax.invert_yaxis()  # labels read top-to-bottom\n",
        "ax.set_xlabel('Performance')\n",
        "ax.set_title('How fast do you want to go today?')\n",
        "\n",
        "\n",
        "\n",
        "\n",
        "\n",
        "fig = plt.figure(figsize=(50, 30)) \n",
        "fig, ax = plt.subplots()\n",
        "ax.plot(words_list[0:200], count_list[0:200])\n",
        "\n",
        "ax.set(xlabel='words', ylabel='frequency',\n",
        "       title='Unigram frequency plot')\n",
        "ax.grid()\n",
        "\n",
        "plt.show()"
      ],
      "execution_count": 0,
      "outputs": [
        {
          "output_type": "stream",
          "text": [
            "(840, 62252)\n"
          ],
          "name": "stdout"
        },
        {
          "output_type": "display_data",
          "data": {
            "text/plain": [
              "<Figure size 3600x2160 with 0 Axes>"
            ]
          },
          "metadata": {
            "tags": []
          }
        },
        {
          "output_type": "display_data",
          "data": {
            "image/png": "[encoded data removed]",
            "text/plain": [
              "<Figure size 432x288 with 1 Axes>"
            ]
          },
          "metadata": {
            "tags": [],
            "needs_background": "light"
          }
        }
      ]
    },
    {
      "cell_type": "markdown",
      "metadata": {
        "id": "6dRdqO4Tdwap",
        "colab_type": "text"
      },
      "source": [
        "### **Bigram analysis**\n",
        "**Bigrams:** Bigram is 2 consecutive words in a sentence."
      ]
    },
    {
      "cell_type": "code",
      "metadata": {
        "id": "JMLyA1mpdwaq",
        "colab_type": "code",
        "outputId": "d8ee4893-5e05-4adc-da7d-fde3208399e3",
        "colab": {
          "base_uri": "https://localhost:8080/",
          "height": 331
        }
      },
      "source": [
        "ngram_vect_bigram = CountVectorizer(ngram_range=(2,2))\n",
        "X_counts_bigram = ngram_vect_bigram.fit_transform(data['body_text'])\n",
        "words_list=(ngram_vect_bigram.get_feature_names())\n",
        "print(X_counts_bigram.shape)\n",
        "count_list=(X_counts_bigram.toarray().sum(axis=0))\n",
        "\n",
        "\n",
        "fig = plt.figure(figsize=(50, 30)) \n",
        "fig, ax = plt.subplots()\n",
        "ax.plot(words_list[0:200], count_list[0:200])\n",
        "\n",
        "ax.set(xlabel='words', ylabel='frequency',\n",
        "       title='Bigram frequency plot')\n",
        "ax.grid()\n",
        "\n",
        "plt.show()"
      ],
      "execution_count": 0,
      "outputs": [
        {
          "output_type": "stream",
          "text": [
            "(840, 605390)\n"
          ],
          "name": "stdout"
        },
        {
          "output_type": "display_data",
          "data": {
            "text/plain": [
              "<Figure size 3600x2160 with 0 Axes>"
            ]
          },
          "metadata": {
            "tags": []
          }
        },
        {
          "output_type": "display_data",
          "data": {
            "image/png": "[encoded data removed]",
            "text/plain": [
              "<Figure size 432x288 with 1 Axes>"
            ]
          },
          "metadata": {
            "tags": [],
            "needs_background": "light"
          }
        }
      ]
    },
    {
      "cell_type": "markdown",
      "metadata": {
        "id": "Qf5xvuMKdwav",
        "colab_type": "text"
      },
      "source": [
        "### **Q2. Trigram analysis:**\n",
        "**Trigrams:** Trigram is 3 consecutive words in a sentence. "
      ]
    },
    {
      "cell_type": "code",
      "metadata": {
        "id": "NIpHEJLQdwaw",
        "colab_type": "code",
        "outputId": "db0f6d36-3f7b-455b-9eea-f0e88967cde5",
        "colab": {
          "base_uri": "https://localhost:8080/",
          "height": 331
        }
      },
      "source": [
        "ngram_vect_trigram = CountVectorizer(ngram_range=(3,3))\n",
        "X_counts_trigram = ngram_vect_trigram.fit_transform(data['body_text'])\n",
        "print(X_counts_trigram.shape)\n",
        "words_list=(ngram_vect_trigram.get_feature_names())\n",
        "count_list=(X_counts_trigram.toarray().sum(axis=0))\n",
        "\n",
        "\n",
        "fig = plt.figure(figsize=(50, 30)) \n",
        "fig, ax = plt.subplots()\n",
        "ax.plot(words_list[0:200], count_list[0:200])\n",
        "\n",
        "ax.set(xlabel='words', ylabel='frequency',\n",
        "       title='Trigram frequency plot')\n",
        "ax.grid()\n",
        "\n",
        "plt.show()"
      ],
      "execution_count": 0,
      "outputs": [
        {
          "output_type": "stream",
          "text": [
            "(840, 1090889)\n"
          ],
          "name": "stdout"
        },
        {
          "output_type": "display_data",
          "data": {
            "text/plain": [
              "<Figure size 3600x2160 with 0 Axes>"
            ]
          },
          "metadata": {
            "tags": []
          }
        },
        {
          "output_type": "display_data",
          "data": {
            "image/png": "[encoded data removed]",
            "text/plain": [
              "<Figure size 432x288 with 1 Axes>"
            ]
          },
          "metadata": {
            "tags": [],
            "needs_background": "light"
          }
        }
      ]
    },
    {
      "cell_type": "markdown",
      "metadata": {
        "id": "neF8X-Gndwa1",
        "colab_type": "text"
      },
      "source": [
        "###**Q4. Repeat Q1, Q2, and Q3 after performing the stemming process on the tokens.**"
      ]
    },
    {
      "cell_type": "code",
      "metadata": {
        "id": "Y9WVnicadwa2",
        "colab_type": "code",
        "outputId": "a1bba02a-2cfa-4e72-cb7b-37361a9d505c",
        "colab": {
          "base_uri": "https://localhost:8080/",
          "height": 204
        }
      },
      "source": [
        "ps = nltk.PorterStemmer()\n",
        "def stem_text(text):\n",
        "    tokens = word_tokenize(text)\n",
        "    text = \" \".join([ps.stem(word) for word in tokens])\n",
        "    return text\n",
        "\n",
        "data['body_stemmed'] = data['body_text'].apply(lambda x: stem_text(x))\n",
        "data.head()"
      ],
      "execution_count": 0,
      "outputs": [
        {
          "output_type": "execute_result",
          "data": {
            "text/html": [
              "<div>\n",
              "<style scoped>\n",
              "    .dataframe tbody tr th:only-of-type {\n",
              "        vertical-align: middle;\n",
              "    }\n",
              "\n",
              "    .dataframe tbody tr th {\n",
              "        vertical-align: top;\n",
              "    }\n",
              "\n",
              "    .dataframe thead th {\n",
              "        text-align: right;\n",
              "    }\n",
              "</style>\n",
              "<table border=\"1\" class=\"dataframe\">\n",
              "  <thead>\n",
              "    <tr style=\"text-align: right;\">\n",
              "      <th></th>\n",
              "      <th>label</th>\n",
              "      <th>body_text</th>\n",
              "      <th>cleaned_text</th>\n",
              "      <th>body_stemmed</th>\n",
              "    </tr>\n",
              "  </thead>\n",
              "  <tbody>\n",
              "    <tr>\n",
              "      <th>0</th>\n",
              "      <td>167857</td>\n",
              "      <td>('\\nThe Usual Suspects\\n\\nThe Usual Suspects i...</td>\n",
              "      <td>('\\nThe Usual Suspects\\n\\nThe Usual Suspects i...</td>\n",
              "      <td>( '\\nthe usual suspects\\n\\nth usual suspect is...</td>\n",
              "    </tr>\n",
              "    <tr>\n",
              "      <th>1</th>\n",
              "      <td>167858</td>\n",
              "      <td>('\\nIndependent Irish Party\\n\\nThe Independent...</td>\n",
              "      <td>('\\nIndependent Irish Party\\n\\nThe Independent...</td>\n",
              "      <td>( '\\nindepend irish party\\n\\nth independ irish...</td>\n",
              "    </tr>\n",
              "    <tr>\n",
              "      <th>2</th>\n",
              "      <td>167859</td>\n",
              "      <td>('\\nJohn Russell, 1st Earl Russell\\n\\nJohn Rus...</td>\n",
              "      <td>('\\nJohn Russell, 1st Earl Russell\\n\\nJohn Rus...</td>\n",
              "      <td>( '\\njohn russel , 1st earl russell\\n\\njohn ru...</td>\n",
              "    </tr>\n",
              "    <tr>\n",
              "      <th>3</th>\n",
              "      <td>167861</td>\n",
              "      <td>('\\nDecebalus\\n\\nDecebalus (r. 87–106) was the...</td>\n",
              "      <td>('\\nDecebalus\\n\\nDecebalus (r. 87–106) was the...</td>\n",
              "      <td>( '\\ndecebalus\\n\\ndecebalu ( r. 87–106 ) wa th...</td>\n",
              "    </tr>\n",
              "    <tr>\n",
              "      <th>4</th>\n",
              "      <td>167866</td>\n",
              "      <td>('\\nWilhelm Steinitz\\n\\nWilhelm (later William...</td>\n",
              "      <td>('\\nWilhelm Steinitz\\n\\nWilhelm (later William...</td>\n",
              "      <td>( '\\nwilhelm steinitz\\n\\nwilhelm ( later willi...</td>\n",
              "    </tr>\n",
              "  </tbody>\n",
              "</table>\n",
              "</div>"
            ],
            "text/plain": [
              "    label  ...                                       body_stemmed\n",
              "0  167857  ...  ( '\\nthe usual suspects\\n\\nth usual suspect is...\n",
              "1  167858  ...  ( '\\nindepend irish party\\n\\nth independ irish...\n",
              "2  167859  ...  ( '\\njohn russel , 1st earl russell\\n\\njohn ru...\n",
              "3  167861  ...  ( '\\ndecebalus\\n\\ndecebalu ( r. 87–106 ) wa th...\n",
              "4  167866  ...  ( '\\nwilhelm steinitz\\n\\nwilhelm ( later willi...\n",
              "\n",
              "[5 rows x 4 columns]"
            ]
          },
          "metadata": {
            "tags": []
          },
          "execution_count": 20
        }
      ]
    },
    {
      "cell_type": "markdown",
      "metadata": {
        "id": "jYhmmaZ9dwa7",
        "colab_type": "raw"
      },
      "source": [
        ""
      ]
    },
    {
      "cell_type": "code",
      "metadata": {
        "id": "bHxhjib4dwa7",
        "colab_type": "code",
        "outputId": "393fd20d-0be4-432a-8390-9d373f0bdc17",
        "colab": {
          "base_uri": "https://localhost:8080/",
          "height": 331
        }
      },
      "source": [
        "ngram_vect_unigram = CountVectorizer(ngram_range=(1,1))\n",
        "X_counts_unigram = ngram_vect_unigram.fit_transform(data['body_stemmed'])\n",
        "print(X_counts_unigram.shape)\n",
        "words_list=(ngram_vect_unigram.get_feature_names())\n",
        "count_list=(X_counts_unigram.toarray().sum(axis=0))\n",
        "\n",
        "\n",
        "fig = plt.figure(figsize=(200, 120)) \n",
        "fig, ax = plt.subplots()\n",
        "ax.plot(words_list[0:200], count_list[0:200])\n",
        "\n",
        "ax.set(xlabel='words', ylabel='frequency',\n",
        "       title='Unigram frequency plot')\n",
        "ax.grid() \n",
        "\n",
        "plt.show()"
      ],
      "execution_count": 0,
      "outputs": [
        {
          "output_type": "stream",
          "text": [
            "(840, 51457)\n"
          ],
          "name": "stdout"
        },
        {
          "output_type": "display_data",
          "data": {
            "text/plain": [
              "<Figure size 14400x8640 with 0 Axes>"
            ]
          },
          "metadata": {
            "tags": []
          }
        },
        {
          "output_type": "display_data",
          "data": {
            "image/png": "[encoded data removed]",
            "text/plain": [
              "<Figure size 432x288 with 1 Axes>"
            ]
          },
          "metadata": {
            "tags": [],
            "needs_background": "light"
          }
        }
      ]
    },
    {
      "cell_type": "code",
      "metadata": {
        "id": "TeKGXrlodwbB",
        "colab_type": "code",
        "outputId": "8cead003-bd00-43ef-88d3-859804a49564",
        "colab": {
          "base_uri": "https://localhost:8080/",
          "height": 331
        }
      },
      "source": [
        "ngram_vect_bigram = CountVectorizer(ngram_range=(2,2))\n",
        "X_counts_bigram = ngram_vect_bigram.fit_transform(data['body_stemmed'])\n",
        "words_list=(ngram_vect_bigram.get_feature_names())\n",
        "print(X_counts_bigram.shape)\n",
        "count_list=(X_counts_bigram.toarray().sum(axis=0))\n",
        "\n",
        "fig = plt.figure(figsize=(50, 30)) \n",
        "fig, ax = plt.subplots()\n",
        "ax.plot(words_list[0:200], count_list[0:200])\n",
        "\n",
        "ax.set(xlabel='words', ylabel='frequency',\n",
        "       title='Bigram frequency plot')\n",
        "ax.grid()\n",
        "\n",
        "plt.show()"
      ],
      "execution_count": 0,
      "outputs": [
        {
          "output_type": "stream",
          "text": [
            "(840, 557229)\n"
          ],
          "name": "stdout"
        },
        {
          "output_type": "display_data",
          "data": {
            "text/plain": [
              "<Figure size 3600x2160 with 0 Axes>"
            ]
          },
          "metadata": {
            "tags": []
          }
        },
        {
          "output_type": "display_data",
          "data": {
            "image/png": "[encoded data removed]",
            "text/plain": [
              "<Figure size 432x288 with 1 Axes>"
            ]
          },
          "metadata": {
            "tags": [],
            "needs_background": "light"
          }
        }
      ]
    },
    {
      "cell_type": "code",
      "metadata": {
        "id": "2n4DOpjPdwbI",
        "colab_type": "code",
        "outputId": "d70b279c-afd7-46b4-b297-c746885d8934",
        "colab": {
          "base_uri": "https://localhost:8080/",
          "height": 331
        }
      },
      "source": [
        "ngram_vect_trigram = CountVectorizer(ngram_range=(3,3))\n",
        "X_counts_trigram = ngram_vect_trigram.fit_transform(data['body_stemmed'])\n",
        "print(X_counts_trigram.shape)\n",
        "words_list=(ngram_vect_trigram.get_feature_names())\n",
        "count_list=(X_counts_trigram.toarray().sum(axis=0))\n",
        " \n",
        "fig = plt.figure(figsize=(50, 30)) \n",
        "fig, ax = plt.subplots()\n",
        "ax.plot(words_list[0:200], count_list[0:200])\n",
        "\n",
        "ax.set(xlabel='words', ylabel='frequency',\n",
        "       title='Trigram frequency plot')\n",
        "ax.grid()\n",
        "\n",
        "plt.show()"
      ],
      "execution_count": 0,
      "outputs": [
        {
          "output_type": "stream",
          "text": [
            "(840, 1073567)\n"
          ],
          "name": "stdout"
        },
        {
          "output_type": "display_data",
          "data": {
            "text/plain": [
              "<Figure size 3600x2160 with 0 Axes>"
            ]
          },
          "metadata": {
            "tags": []
          }
        },
        {
          "output_type": "display_data",
          "data": {
            "image/png": "[encoded data removed]",
            "text/plain": [
              "<Figure size 432x288 with 1 Axes>"
            ]
          },
          "metadata": {
            "tags": [],
            "needs_background": "light"
          }
        }
      ]
    },
    {
      "cell_type": "markdown",
      "metadata": {
        "id": "GE-E4inDdwbP",
        "colab_type": "text"
      },
      "source": [
        "## **Part2: Vector-space based IR System**"
      ]
    },
    {
      "cell_type": "code",
      "metadata": {
        "id": "TZlmwGxWdwbQ",
        "colab_type": "code",
        "outputId": "9289ea91-1dc3-4550-cb90-aa64504db282",
        "colab": {
          "base_uri": "https://localhost:8080/",
          "height": 35
        }
      },
      "source": [
        "dataset = []\n",
        "import os\n",
        "\n",
        "file = open(\"wiki_99\",\"r\")\n",
        "text = file.read().strip()\n",
        "file.close()\n",
        "file_name = re.findall(' id=\"(.*)\" url', text)\n",
        "file_body = re.findall('<doc .*>((.|\\n)*?)<\\/doc>',text)\n",
        "\n",
        "data=[]\n",
        "for j in range(len(file_name)):\n",
        "  filebody=re.sub('<[^>]*>', '', str(file_body[j]))\n",
        "  data.append((file_name[j],filebody))\n",
        "    \n",
        "len(data)\n"
      ],
      "execution_count": 0,
      "outputs": [
        {
          "output_type": "execute_result",
          "data": {
            "text/plain": [
              "840"
            ]
          },
          "metadata": {
            "tags": []
          },
          "execution_count": 25
        }
      ]
    },
    {
      "cell_type": "markdown",
      "metadata": {
        "id": "Pc_PPFa_NF1Q",
        "colab_type": "text"
      },
      "source": [
        "### **Preprocessing**"
      ]
    },
    {
      "cell_type": "code",
      "metadata": {
        "id": "EbKGAUsgdwbW",
        "colab_type": "code",
        "colab": {}
      },
      "source": [
        "import os\n",
        "file = open(\"wiki_99\",\"r\")\n",
        "text = file.read().strip()\n",
        "file.close()\n",
        "file_id = re.findall(' id=\"(.*)\" url', text)\n",
        "file_body = re.findall('<doc .*>((.|\\n)*?)<\\/doc>',text)\n",
        "\n",
        "data=[]\n",
        "for j in range(len(file_id)):\n",
        "    filebody=re.sub('<[^>]*>', '', str(file_body[j]))\n",
        "    data.append((file_id[j],filebody))\n",
        "\n",
        "N = len(data)"
      ],
      "execution_count": 0,
      "outputs": []
    },
    {
      "cell_type": "code",
      "metadata": {
        "id": "KO2L_U0-dwbc",
        "colab_type": "code",
        "colab": {}
      },
      "source": [
        "def remove_stop_words(data):\n",
        "    stop_words = stopwords.words('english')\n",
        "    words = word_tokenize(str(data))\n",
        "    new_text = \"\"\n",
        "    for w in words:\n",
        "        if w not in stop_words and len(w) > 1:\n",
        "            new_text = new_text + \" \" + w\n",
        "    return new_text"
      ],
      "execution_count": 0,
      "outputs": []
    },
    {
      "cell_type": "code",
      "metadata": {
        "id": "i5YpfTAldwbi",
        "colab_type": "code",
        "colab": {}
      },
      "source": [
        "def remove_punctuation(data):\n",
        "    symbols = \"!\\\"#$%&()*+-./:;<=>?@[\\]^_`{|}~\\n\"\n",
        "    for i in range(len(symbols)):\n",
        "        data = np.char.replace(data, symbols[i], ' ')\n",
        "        data = np.char.replace(data, \"  \", \" \")\n",
        "    data = np.char.replace(data, ',', '')\n",
        "    return data"
      ],
      "execution_count": 0,
      "outputs": []
    },
    {
      "cell_type": "code",
      "metadata": {
        "id": "_3V4ZKUpdwbn",
        "colab_type": "code",
        "colab": {}
      },
      "source": [
        "def convert_lower_case(data):\n",
        "    return np.char.lower(data)"
      ],
      "execution_count": 0,
      "outputs": []
    },
    {
      "cell_type": "code",
      "metadata": {
        "id": "HKsPkH4hdwbr",
        "colab_type": "code",
        "colab": {}
      },
      "source": [
        "def remove_apostrophe(data):\n",
        "    return np.char.replace(data, \"'\", \"\")"
      ],
      "execution_count": 0,
      "outputs": []
    },
    {
      "cell_type": "code",
      "metadata": {
        "id": "RNSXzDgAdwbx",
        "colab_type": "code",
        "colab": {}
      },
      "source": [
        "def convert_numbers(data):\n",
        "    tokens = word_tokenize(str(data))\n",
        "    new_text = \"\"\n",
        "    for w in tokens:\n",
        "        try:\n",
        "            w = num2words(int(w))\n",
        "        except:\n",
        "            a = 0\n",
        "        new_text = new_text + \" \" + w\n",
        "    new_text = np.char.replace(new_text, \"-\", \" \")\n",
        "    return new_text"
      ],
      "execution_count": 0,
      "outputs": []
    },
    {
      "cell_type": "code",
      "metadata": {
        "id": "Bo_2fzHGdwb3",
        "colab_type": "code",
        "colab": {}
      },
      "source": [
        "def stemming(data):\n",
        "    stemmer= nltk.PorterStemmer()\n",
        "    \n",
        "    tokens = word_tokenize(str(data))\n",
        "    new_text = \"\"\n",
        "    for w in tokens:\n",
        "        new_text = new_text + \" \" + stemmer.stem(w)\n",
        "    return new_text"
      ],
      "execution_count": 0,
      "outputs": []
    },
    {
      "cell_type": "code",
      "metadata": {
        "id": "M15DfIkcdwb8",
        "colab_type": "code",
        "colab": {}
      },
      "source": [
        "def preprocess(data):\n",
        "    data = convert_lower_case(data)\n",
        "    data = remove_punctuation(data) \n",
        "    data = remove_apostrophe(data)\n",
        "    data = remove_stop_words(data)\n",
        "    data = convert_numbers(data)\n",
        "    data = stemming(data)\n",
        "    data = remove_punctuation(data)\n",
        "    data = convert_numbers(data)\n",
        "    data = stemming(data) \n",
        "    data = remove_punctuation(data) \n",
        "    data = remove_stop_words(data)\n",
        "    return data\n"
      ],
      "execution_count": 0,
      "outputs": []
    },
    {
      "cell_type": "markdown",
      "metadata": {
        "id": "sXcNAUXmNP05",
        "colab_type": "text"
      },
      "source": [
        "### **Extracting data from preprocessed text**"
      ]
    },
    {
      "cell_type": "code",
      "metadata": {
        "id": "EEOPT8Z_dwcA",
        "colab_type": "code",
        "colab": {}
      },
      "source": [
        "processed_text = []\n",
        "processed_id = []\n",
        "\n",
        "for file in data[:N]:\n",
        "    processed_id.append(word_tokenize(str(preprocess(file[0]))))\n",
        "    processed_text.append(word_tokenize(str(preprocess(file[1]))))\n",
        "    \n",
        "\n",
        "N=len(processed_id)\n",
        "\n",
        "#create DF dictionary which stores {token, documents in which it appears}\n",
        "DF = {}\n",
        "for i in range(len(processed_id)):\n",
        "    tokens = processed_text[i]\n",
        "    for w in tokens:\n",
        "        try:\n",
        "            DF[w].add(i)\n",
        "        except:\n",
        "            DF[w] = {i}\n",
        "\n",
        "for i in DF:\n",
        "    DF[i] = len(DF[i])"
      ],
      "execution_count": 0,
      "outputs": []
    },
    {
      "cell_type": "code",
      "metadata": {
        "id": "897Yr5M3dwcL",
        "colab_type": "code",
        "outputId": "74928e74-d64e-4ab9-bf2a-dfcbc3a1dfdd",
        "colab": {
          "base_uri": "https://localhost:8080/",
          "height": 71
        }
      },
      "source": [
        "import nltk\n",
        "nltk.download('stopwords')"
      ],
      "execution_count": 0,
      "outputs": [
        {
          "output_type": "stream",
          "text": [
            "[nltk_data] Downloading package stopwords to /root/nltk_data...\n",
            "[nltk_data]   Unzipping corpora/stopwords.zip.\n"
          ],
          "name": "stdout"
        },
        {
          "output_type": "execute_result",
          "data": {
            "text/plain": [
              "True"
            ]
          },
          "metadata": {
            "tags": []
          },
          "execution_count": 36
        }
      ]
    },
    {
      "cell_type": "markdown",
      "metadata": {
        "id": "aTvx9k8lNdlp",
        "colab_type": "text"
      },
      "source": [
        "### **Calculating DF for all words**"
      ]
    },
    {
      "cell_type": "code",
      "metadata": {
        "id": "FSYkFTHpdwcH",
        "colab_type": "code",
        "outputId": "cca38a73-865f-4eaf-8ddb-57c127c90928",
        "colab": {
          "base_uri": "https://localhost:8080/",
          "height": 35
        }
      },
      "source": [
        "total_vocab_size = len(DF)\n",
        "print(total_vocab_size)"
      ],
      "execution_count": 0,
      "outputs": [
        {
          "output_type": "stream",
          "text": [
            "47624\n"
          ],
          "name": "stdout"
        }
      ]
    },
    {
      "cell_type": "code",
      "metadata": {
        "id": "9nSU7qHudwcP",
        "colab_type": "code",
        "outputId": "9f111902-4574-42d8-8e74-3dd37e920894",
        "colab": {
          "base_uri": "https://localhost:8080/",
          "height": 55
        }
      },
      "source": [
        "total_vocab_size\n",
        "total_vocab = [x for x in DF]\n",
        "\n",
        "print(total_vocab[:20])\n",
        "def doc_freq(word):\n",
        "    c = 0\n",
        "    try:\n",
        "        c = DF[word]\n",
        "    except:\n",
        "        pass\n",
        "    return c"
      ],
      "execution_count": 0,
      "outputs": [
        {
          "output_type": "stream",
          "text": [
            "['nthe', 'usual', 'suspect', '1995', 'american', 'neo', 'noir', 'mysteri', 'crime', 'thriller', 'film', 'direct', 'bryan', 'singer', 'written', 'christoph', 'mcquarri', 'star', 'stephen', 'baldwin']\n"
          ],
          "name": "stdout"
        }
      ]
    },
    {
      "cell_type": "code",
      "metadata": {
        "id": "PuGvJA-tdwcU",
        "colab_type": "code",
        "colab": {}
      },
      "source": [
        "# TF-IDF for file text\n",
        "doc = 0\n",
        "\n",
        "tf_idf = {}\n",
        "tf_doc = {}\n",
        "for i in range(N):\n",
        "    \n",
        "    tokens = processed_text[i]\n",
        "    \n",
        "    counter = Counter(tokens + processed_id[i])\n",
        "    words_count = len(tokens + processed_id[i])\n",
        "    \n",
        "    for token in np.unique(tokens):\n",
        "        \n",
        "        tf = counter[token]/words_count\n",
        "        df = doc_freq(token)\n",
        "        idf = np.log((N+1)/(df+1))\n",
        "        \n",
        "        tf_doc[doc, token] = 1+math.log(tf,10)\n",
        "        tf_idf[doc, token] = tf*idf\n",
        "\n",
        "    doc += 1"
      ],
      "execution_count": 0,
      "outputs": []
    },
    {
      "cell_type": "markdown",
      "metadata": {
        "id": "hzn_39LiN70z",
        "colab_type": "text"
      },
      "source": [
        "### **Cosine Similarity**"
      ]
    },
    {
      "cell_type": "code",
      "metadata": {
        "id": "lcvNgO-ydwcZ",
        "colab_type": "code",
        "colab": {}
      },
      "source": [
        "def cosine_sim(a, b):\n",
        "    cos_sim = np.dot(a, b)/(np.linalg.norm(a)*np.linalg.norm(b))\n",
        "    return cos_sim"
      ],
      "execution_count": 0,
      "outputs": []
    },
    {
      "cell_type": "code",
      "metadata": {
        "id": "BhKXMKzfdwcg",
        "colab_type": "code",
        "colab": {}
      },
      "source": [
        "# Vectorize tf-idf\n",
        "# D consists of tf for document to calculate the IncItc ranking\n",
        "D = np.zeros((N, total_vocab_size))\n",
        "for i in tf_idf:\n",
        "    try:\n",
        "        ind = total_vocab.index(i[1])\n",
        "        D[i[0]][ind] = tf_doc[i]\n",
        "    except:\n",
        "        pass"
      ],
      "execution_count": 0,
      "outputs": []
    },
    {
      "cell_type": "code",
      "metadata": {
        "id": "bD1cDYAodwcm",
        "colab_type": "code",
        "colab": {}
      },
      "source": [
        "# generate query vector\n",
        "def gen_vector(tokens):\n",
        "\n",
        "    Q = np.zeros((len(total_vocab)))\n",
        "    \n",
        "    counter = Counter(tokens)\n",
        "    words_count = len(tokens)\n",
        "\n",
        "    query_weights = {}\n",
        "    \n",
        "    for token in np.unique(tokens):\n",
        "        \n",
        "        tf = counter[token]/words_count\n",
        "        df = doc_freq(token)\n",
        "        idf = math.log((N+1)/(df+1),10)\n",
        "\n",
        "        try:\n",
        "            ind = total_vocab.index(token)\n",
        "            Q[ind] = 1+math.raw(tf,10)*idf\n",
        "        except:\n",
        "            pass\n",
        "    return Q"
      ],
      "execution_count": 0,
      "outputs": []
    },
    {
      "cell_type": "code",
      "metadata": {
        "id": "RaMhbCURdwcr",
        "colab_type": "code",
        "colab": {}
      },
      "source": [
        "def score(k, query):\n",
        "    print(\"Cosine Similarity\")\n",
        "    preprocessed_query = preprocess(query)\n",
        "    tokens = word_tokenize(str(query))\n",
        "    \n",
        "    print(\"\\nQuery:\", query)\n",
        "    print(\"\")\n",
        "    print(tokens)\n",
        "    \n",
        "    d_cosines = []\n",
        "    \n",
        "    query_vector = gen_vector(tokens)\n",
        "    \n",
        "    for d in D:\n",
        "        d_cosines.append(cosine_sim(query_vector, d))\n",
        "        \n",
        "    out = np.array(d_cosines).argsort()[-k:][::-1]\n",
        "    \n",
        "    print(len(processed_id))\n",
        "    doc_id = [processed_id[doc] for doc in out ]\n",
        "    print(\"\")\n",
        "    \n",
        "    print(doc_id)\n"
      ],
      "execution_count": 0,
      "outputs": []
    },
    {
      "cell_type": "code",
      "metadata": {
        "id": "zJ44C_xQdwcx",
        "colab_type": "code",
        "outputId": "ec4aa05e-81f2-4440-b97c-91c91fc93489",
        "colab": {
          "base_uri": "https://localhost:8080/",
          "height": 197
        }
      },
      "source": [
        "Q = score(10, \"The rapid rise of Laestadianism among the Sami was due to several factors.\")"
      ],
      "execution_count": 0,
      "outputs": [
        {
          "output_type": "stream",
          "text": [
            "Cosine Similarity\n",
            "\n",
            "Query: The rapid rise of Laestadianism among the Sami was due to several factors.\n",
            "\n",
            "['The', 'rapid', 'rise', 'of', 'Laestadianism', 'among', 'the', 'Sami', 'was', 'due', 'to', 'several', 'factors', '.']\n",
            "840\n",
            "\n",
            "[['170157'], ['168507'], ['168571'], ['168570'], ['168568'], ['168565'], ['168562'], ['168561'], ['168559'], ['168556']]\n"
          ],
          "name": "stdout"
        },
        {
          "output_type": "stream",
          "text": [
            "/usr/local/lib/python3.6/dist-packages/ipykernel_launcher.py:2: RuntimeWarning: invalid value encountered in double_scalars\n",
            "  \n"
          ],
          "name": "stderr"
        }
      ]
    },
    {
      "cell_type": "code",
      "metadata": {
        "id": "ij9Q3yyJdwc1",
        "colab_type": "code",
        "outputId": "bc63791d-a317-4a93-8f3a-92fc63fde849",
        "colab": {
          "base_uri": "https://localhost:8080/",
          "height": 217
        }
      },
      "source": [
        "Q = score(10, \"Anarchism is a political philosophy that advocates self-governed societies based on voluntary institutions. \")"
      ],
      "execution_count": 0,
      "outputs": [
        {
          "output_type": "stream",
          "text": [
            "Cosine Similarity\n",
            "\n",
            "Query: Anarchism is a political philosophy that advocates self-governed societies based on voluntary institutions. \n",
            "\n",
            "['Anarchism', 'is', 'a', 'political', 'philosophy', 'that', 'advocates', 'self-governed', 'societies', 'based', 'on', 'voluntary', 'institutions', '.']\n",
            "840\n",
            "\n",
            "[['170157'], ['168507'], ['168571'], ['168570'], ['168568'], ['168565'], ['168562'], ['168561'], ['168559'], ['168556']]\n"
          ],
          "name": "stdout"
        },
        {
          "output_type": "stream",
          "text": [
            "/usr/local/lib/python3.6/dist-packages/ipykernel_launcher.py:2: RuntimeWarning: invalid value encountered in double_scalars\n",
            "  \n"
          ],
          "name": "stderr"
        }
      ]
    },
    {
      "cell_type": "code",
      "metadata": {
        "id": "XTDUyXa9dwc5",
        "colab_type": "code",
        "outputId": "ff073b37-b424-4b32-9412-365df59e4f21",
        "colab": {
          "base_uri": "https://localhost:8080/",
          "height": 217
        }
      },
      "source": [
        "Q = score(10, \"Originally intended to be a Melatonin Magik remix album, as more and more guests were invited to feature, Canibus decided to also record new material for the album, and it quickly evolved into an official solo album. \")"
      ],
      "execution_count": 0,
      "outputs": [
        {
          "output_type": "stream",
          "text": [
            "Cosine Similarity\n",
            "\n",
            "Query: Originally intended to be a Melatonin Magik remix album, as more and more guests were invited to feature, Canibus decided to also record new material for the album, and it quickly evolved into an official solo album. \n",
            "\n",
            "['Originally', 'intended', 'to', 'be', 'a', 'Melatonin', 'Magik', 'remix', 'album', ',', 'as', 'more', 'and', 'more', 'guests', 'were', 'invited', 'to', 'feature', ',', 'Canibus', 'decided', 'to', 'also', 'record', 'new', 'material', 'for', 'the', 'album', ',', 'and', 'it', 'quickly', 'evolved', 'into', 'an', 'official', 'solo', 'album', '.']\n",
            "840\n",
            "\n",
            "[['170157'], ['168507'], ['168571'], ['168570'], ['168568'], ['168565'], ['168562'], ['168561'], ['168559'], ['168556']]\n"
          ],
          "name": "stdout"
        },
        {
          "output_type": "stream",
          "text": [
            "/usr/local/lib/python3.6/dist-packages/ipykernel_launcher.py:2: RuntimeWarning: invalid value encountered in double_scalars\n",
            "  \n"
          ],
          "name": "stderr"
        }
      ]
    },
    {
      "cell_type": "code",
      "metadata": {
        "id": "YpOkBUa0dwc9",
        "colab_type": "code",
        "outputId": "e3d180a6-f5e8-47df-8b32-cf514875b093",
        "colab": {
          "base_uri": "https://localhost:8080/",
          "height": 217
        }
      },
      "source": [
        "Q = score(10, \"In 1882, while Steinitz was playing in Vienna and sending weekly reports on the tournament to The Field, there was a plot against him back in England. \")"
      ],
      "execution_count": 0,
      "outputs": [
        {
          "output_type": "stream",
          "text": [
            "Cosine Similarity\n",
            "\n",
            "Query: In 1882, while Steinitz was playing in Vienna and sending weekly reports on the tournament to The Field, there was a plot against him back in England. \n",
            "\n",
            "['In', '1882', ',', 'while', 'Steinitz', 'was', 'playing', 'in', 'Vienna', 'and', 'sending', 'weekly', 'reports', 'on', 'the', 'tournament', 'to', 'The', 'Field', ',', 'there', 'was', 'a', 'plot', 'against', 'him', 'back', 'in', 'England', '.']\n",
            "840\n",
            "\n",
            "[['170157'], ['168507'], ['168571'], ['168570'], ['168568'], ['168565'], ['168562'], ['168561'], ['168559'], ['168556']]\n"
          ],
          "name": "stdout"
        },
        {
          "output_type": "stream",
          "text": [
            "/usr/local/lib/python3.6/dist-packages/ipykernel_launcher.py:2: RuntimeWarning: invalid value encountered in double_scalars\n",
            "  \n"
          ],
          "name": "stderr"
        }
      ]
    },
    {
      "cell_type": "code",
      "metadata": {
        "id": "G6gmPQzMdwdC",
        "colab_type": "code",
        "outputId": "737286b4-6b20-4125-9037-2dcab53779ac",
        "colab": {
          "base_uri": "https://localhost:8080/",
          "height": 217
        }
      },
      "source": [
        "Q = score(10, \"In May 1944 Iranian Airways was founded at the initiative of business leader and politician Reza Afshar, in partnership with Gholam Hossein Ebtehaj. Not long after its formation, Afshar, who had previously formed Iran Tour, the first Iranian travel and tour agency, and Mehrabad Airport, became the sole owner of the private company.\")"
      ],
      "execution_count": 0,
      "outputs": [
        {
          "output_type": "stream",
          "text": [
            "Cosine Similarity\n",
            "\n",
            "Query: In May 1944 Iranian Airways was founded at the initiative of business leader and politician Reza Afshar, in partnership with Gholam Hossein Ebtehaj. Not long after its formation, Afshar, who had previously formed Iran Tour, the first Iranian travel and tour agency, and Mehrabad Airport, became the sole owner of the private company.\n",
            "\n",
            "['In', 'May', '1944', 'Iranian', 'Airways', 'was', 'founded', 'at', 'the', 'initiative', 'of', 'business', 'leader', 'and', 'politician', 'Reza', 'Afshar', ',', 'in', 'partnership', 'with', 'Gholam', 'Hossein', 'Ebtehaj', '.', 'Not', 'long', 'after', 'its', 'formation', ',', 'Afshar', ',', 'who', 'had', 'previously', 'formed', 'Iran', 'Tour', ',', 'the', 'first', 'Iranian', 'travel', 'and', 'tour', 'agency', ',', 'and', 'Mehrabad', 'Airport', ',', 'became', 'the', 'sole', 'owner', 'of', 'the', 'private', 'company', '.']\n",
            "840\n",
            "\n",
            "[['170157'], ['168507'], ['168571'], ['168570'], ['168568'], ['168565'], ['168562'], ['168561'], ['168559'], ['168556']]\n"
          ],
          "name": "stdout"
        },
        {
          "output_type": "stream",
          "text": [
            "/usr/local/lib/python3.6/dist-packages/ipykernel_launcher.py:2: RuntimeWarning: invalid value encountered in double_scalars\n",
            "  \n"
          ],
          "name": "stderr"
        }
      ]
    }
  ]
}